{
  "nbformat": 4,
  "nbformat_minor": 5,
  "metadata": {
    "kernelspec": {
      "display_name": "Python 3",
      "language": "python",
      "name": "python3"
    },
    "language_info": {
      "codemirror_mode": {
        "name": "ipython",
        "version": 3
      },
      "file_extension": ".py",
      "mimetype": "text/x-python",
      "name": "python",
      "nbconvert_exporter": "python",
      "pygments_lexer": "ipython3",
      "version": "3.8.7"
    },
    "colab": {
      "name": "Saud_56_Covid_data_colab.ipynb",
      "provenance": [],
      "collapsed_sections": [],
      "toc_visible": true
    },
    "accelerator": "TPU"
  },
  "cells": [
    {
      "cell_type": "markdown",
      "metadata": {
        "id": "62ea5978"
      },
      "source": [
        "# SAUD AHMAD KHAN (17160145056)"
      ],
      "id": "62ea5978"
    },
    {
      "cell_type": "markdown",
      "metadata": {
        "id": "7a78baf6"
      },
      "source": [
        "# COVID PREDICTION\n",
        "\n",
        "Covid data has been taken from: https://github.com/nshomron/covidpred/tree/master/data. 1 million data points are available here and as such to process such amount of data it would require a lot of time so only 40000 data points have been used to save time.  "
      ],
      "id": "7a78baf6"
    },
    {
      "cell_type": "code",
      "metadata": {
        "scrolled": false,
        "colab": {
          "base_uri": "https://localhost:8080/",
          "height": 486
        },
        "id": "b9297fbf",
        "outputId": "75d3e6b2-16db-415e-e146-59a65cf63ed9"
      },
      "source": [
        "#Importing covid data using Pandas\n",
        "\n",
        "import pandas as pd\n",
        "covid_data = pd.read_csv(r'/content/corona_tested_individuals.english.csv')\n",
        "print(covid_data.keys())\n",
        "print(f'Shape: {covid_data.shape}')\n",
        "print(f'type(covid_data): {type(covid_data)}')\n",
        "covid_data"
      ],
      "id": "b9297fbf",
      "execution_count": 80,
      "outputs": [
        {
          "output_type": "stream",
          "text": [
            "Index(['test_date', 'cough', 'fever', 'sore_throat', 'shortness_of_breath',\n",
            "       'head_ache', 'corona_result'],\n",
            "      dtype='object')\n",
            "Shape: (1030724, 7)\n",
            "type(covid_data): <class 'pandas.core.frame.DataFrame'>\n"
          ],
          "name": "stdout"
        },
        {
          "output_type": "execute_result",
          "data": {
            "text/html": [
              "<div>\n",
              "<style scoped>\n",
              "    .dataframe tbody tr th:only-of-type {\n",
              "        vertical-align: middle;\n",
              "    }\n",
              "\n",
              "    .dataframe tbody tr th {\n",
              "        vertical-align: top;\n",
              "    }\n",
              "\n",
              "    .dataframe thead th {\n",
              "        text-align: right;\n",
              "    }\n",
              "</style>\n",
              "<table border=\"1\" class=\"dataframe\">\n",
              "  <thead>\n",
              "    <tr style=\"text-align: right;\">\n",
              "      <th></th>\n",
              "      <th>test_date</th>\n",
              "      <th>cough</th>\n",
              "      <th>fever</th>\n",
              "      <th>sore_throat</th>\n",
              "      <th>shortness_of_breath</th>\n",
              "      <th>head_ache</th>\n",
              "      <th>corona_result</th>\n",
              "    </tr>\n",
              "  </thead>\n",
              "  <tbody>\n",
              "    <tr>\n",
              "      <th>0</th>\n",
              "      <td>12-11-20</td>\n",
              "      <td>0</td>\n",
              "      <td>0</td>\n",
              "      <td>0</td>\n",
              "      <td>0</td>\n",
              "      <td>0</td>\n",
              "      <td>negative</td>\n",
              "    </tr>\n",
              "    <tr>\n",
              "      <th>1</th>\n",
              "      <td>12-11-20</td>\n",
              "      <td>0</td>\n",
              "      <td>1</td>\n",
              "      <td>0</td>\n",
              "      <td>0</td>\n",
              "      <td>0</td>\n",
              "      <td>negative</td>\n",
              "    </tr>\n",
              "    <tr>\n",
              "      <th>2</th>\n",
              "      <td>12-11-20</td>\n",
              "      <td>0</td>\n",
              "      <td>0</td>\n",
              "      <td>0</td>\n",
              "      <td>0</td>\n",
              "      <td>0</td>\n",
              "      <td>negative</td>\n",
              "    </tr>\n",
              "    <tr>\n",
              "      <th>3</th>\n",
              "      <td>12-11-20</td>\n",
              "      <td>0</td>\n",
              "      <td>0</td>\n",
              "      <td>0</td>\n",
              "      <td>0</td>\n",
              "      <td>0</td>\n",
              "      <td>negative</td>\n",
              "    </tr>\n",
              "    <tr>\n",
              "      <th>4</th>\n",
              "      <td>12-11-20</td>\n",
              "      <td>0</td>\n",
              "      <td>1</td>\n",
              "      <td>0</td>\n",
              "      <td>0</td>\n",
              "      <td>0</td>\n",
              "      <td>negative</td>\n",
              "    </tr>\n",
              "    <tr>\n",
              "      <th>...</th>\n",
              "      <td>...</td>\n",
              "      <td>...</td>\n",
              "      <td>...</td>\n",
              "      <td>...</td>\n",
              "      <td>...</td>\n",
              "      <td>...</td>\n",
              "      <td>...</td>\n",
              "    </tr>\n",
              "    <tr>\n",
              "      <th>1030719</th>\n",
              "      <td>10-09-20</td>\n",
              "      <td>0</td>\n",
              "      <td>0</td>\n",
              "      <td>0</td>\n",
              "      <td>0</td>\n",
              "      <td>0</td>\n",
              "      <td>negative</td>\n",
              "    </tr>\n",
              "    <tr>\n",
              "      <th>1030720</th>\n",
              "      <td>10-09-20</td>\n",
              "      <td>0</td>\n",
              "      <td>0</td>\n",
              "      <td>0</td>\n",
              "      <td>0</td>\n",
              "      <td>0</td>\n",
              "      <td>negative</td>\n",
              "    </tr>\n",
              "    <tr>\n",
              "      <th>1030721</th>\n",
              "      <td>10-09-20</td>\n",
              "      <td>0</td>\n",
              "      <td>0</td>\n",
              "      <td>0</td>\n",
              "      <td>0</td>\n",
              "      <td>0</td>\n",
              "      <td>negative</td>\n",
              "    </tr>\n",
              "    <tr>\n",
              "      <th>1030722</th>\n",
              "      <td>10-09-20</td>\n",
              "      <td>0</td>\n",
              "      <td>0</td>\n",
              "      <td>0</td>\n",
              "      <td>0</td>\n",
              "      <td>0</td>\n",
              "      <td>negative</td>\n",
              "    </tr>\n",
              "    <tr>\n",
              "      <th>1030723</th>\n",
              "      <td>10-09-20</td>\n",
              "      <td>0</td>\n",
              "      <td>0</td>\n",
              "      <td>0</td>\n",
              "      <td>0</td>\n",
              "      <td>0</td>\n",
              "      <td>negative</td>\n",
              "    </tr>\n",
              "  </tbody>\n",
              "</table>\n",
              "<p>1030724 rows × 7 columns</p>\n",
              "</div>"
            ],
            "text/plain": [
              "        test_date  cough  fever  ...  shortness_of_breath  head_ache  corona_result\n",
              "0        12-11-20      0      0  ...                    0          0       negative\n",
              "1        12-11-20      0      1  ...                    0          0       negative\n",
              "2        12-11-20      0      0  ...                    0          0       negative\n",
              "3        12-11-20      0      0  ...                    0          0       negative\n",
              "4        12-11-20      0      1  ...                    0          0       negative\n",
              "...           ...    ...    ...  ...                  ...        ...            ...\n",
              "1030719  10-09-20      0      0  ...                    0          0       negative\n",
              "1030720  10-09-20      0      0  ...                    0          0       negative\n",
              "1030721  10-09-20      0      0  ...                    0          0       negative\n",
              "1030722  10-09-20      0      0  ...                    0          0       negative\n",
              "1030723  10-09-20      0      0  ...                    0          0       negative\n",
              "\n",
              "[1030724 rows x 7 columns]"
            ]
          },
          "metadata": {
            "tags": []
          },
          "execution_count": 80
        }
      ]
    },
    {
      "cell_type": "code",
      "metadata": {
        "scrolled": false,
        "colab": {
          "base_uri": "https://localhost:8080/",
          "height": 418
        },
        "id": "d24b1d14",
        "outputId": "f253bdc2-22ed-4b5f-c5d4-a07bae3554b7"
      },
      "source": [
        "#Seperating features from the dataset.\n",
        "\n",
        "covid_data_features = covid_data.iloc[10000:250000, 1:6]\n",
        "print(covid_data_features.keys())\n",
        "covid_data_features"
      ],
      "id": "d24b1d14",
      "execution_count": 109,
      "outputs": [
        {
          "output_type": "stream",
          "text": [
            "Index(['cough', 'fever', 'sore_throat', 'shortness_of_breath', 'head_ache'], dtype='object')\n"
          ],
          "name": "stdout"
        },
        {
          "output_type": "execute_result",
          "data": {
            "text/html": [
              "<div>\n",
              "<style scoped>\n",
              "    .dataframe tbody tr th:only-of-type {\n",
              "        vertical-align: middle;\n",
              "    }\n",
              "\n",
              "    .dataframe tbody tr th {\n",
              "        vertical-align: top;\n",
              "    }\n",
              "\n",
              "    .dataframe thead th {\n",
              "        text-align: right;\n",
              "    }\n",
              "</style>\n",
              "<table border=\"1\" class=\"dataframe\">\n",
              "  <thead>\n",
              "    <tr style=\"text-align: right;\">\n",
              "      <th></th>\n",
              "      <th>cough</th>\n",
              "      <th>fever</th>\n",
              "      <th>sore_throat</th>\n",
              "      <th>shortness_of_breath</th>\n",
              "      <th>head_ache</th>\n",
              "    </tr>\n",
              "  </thead>\n",
              "  <tbody>\n",
              "    <tr>\n",
              "      <th>10000</th>\n",
              "      <td>0</td>\n",
              "      <td>0</td>\n",
              "      <td>0</td>\n",
              "      <td>0</td>\n",
              "      <td>0</td>\n",
              "    </tr>\n",
              "    <tr>\n",
              "      <th>10001</th>\n",
              "      <td>0</td>\n",
              "      <td>0</td>\n",
              "      <td>0</td>\n",
              "      <td>0</td>\n",
              "      <td>0</td>\n",
              "    </tr>\n",
              "    <tr>\n",
              "      <th>10002</th>\n",
              "      <td>0</td>\n",
              "      <td>0</td>\n",
              "      <td>0</td>\n",
              "      <td>0</td>\n",
              "      <td>0</td>\n",
              "    </tr>\n",
              "    <tr>\n",
              "      <th>10003</th>\n",
              "      <td>0</td>\n",
              "      <td>0</td>\n",
              "      <td>0</td>\n",
              "      <td>0</td>\n",
              "      <td>0</td>\n",
              "    </tr>\n",
              "    <tr>\n",
              "      <th>10004</th>\n",
              "      <td>0</td>\n",
              "      <td>0</td>\n",
              "      <td>0</td>\n",
              "      <td>0</td>\n",
              "      <td>0</td>\n",
              "    </tr>\n",
              "    <tr>\n",
              "      <th>...</th>\n",
              "      <td>...</td>\n",
              "      <td>...</td>\n",
              "      <td>...</td>\n",
              "      <td>...</td>\n",
              "      <td>...</td>\n",
              "    </tr>\n",
              "    <tr>\n",
              "      <th>249995</th>\n",
              "      <td>0</td>\n",
              "      <td>0</td>\n",
              "      <td>0</td>\n",
              "      <td>0</td>\n",
              "      <td>0</td>\n",
              "    </tr>\n",
              "    <tr>\n",
              "      <th>249996</th>\n",
              "      <td>0</td>\n",
              "      <td>0</td>\n",
              "      <td>0</td>\n",
              "      <td>0</td>\n",
              "      <td>0</td>\n",
              "    </tr>\n",
              "    <tr>\n",
              "      <th>249997</th>\n",
              "      <td>0</td>\n",
              "      <td>0</td>\n",
              "      <td>0</td>\n",
              "      <td>0</td>\n",
              "      <td>0</td>\n",
              "    </tr>\n",
              "    <tr>\n",
              "      <th>249998</th>\n",
              "      <td>0</td>\n",
              "      <td>0</td>\n",
              "      <td>0</td>\n",
              "      <td>0</td>\n",
              "      <td>0</td>\n",
              "    </tr>\n",
              "    <tr>\n",
              "      <th>249999</th>\n",
              "      <td>0</td>\n",
              "      <td>0</td>\n",
              "      <td>0</td>\n",
              "      <td>0</td>\n",
              "      <td>0</td>\n",
              "    </tr>\n",
              "  </tbody>\n",
              "</table>\n",
              "<p>240000 rows × 5 columns</p>\n",
              "</div>"
            ],
            "text/plain": [
              "        cough  fever  sore_throat  shortness_of_breath  head_ache\n",
              "10000       0      0            0                    0          0\n",
              "10001       0      0            0                    0          0\n",
              "10002       0      0            0                    0          0\n",
              "10003       0      0            0                    0          0\n",
              "10004       0      0            0                    0          0\n",
              "...       ...    ...          ...                  ...        ...\n",
              "249995      0      0            0                    0          0\n",
              "249996      0      0            0                    0          0\n",
              "249997      0      0            0                    0          0\n",
              "249998      0      0            0                    0          0\n",
              "249999      0      0            0                    0          0\n",
              "\n",
              "[240000 rows x 5 columns]"
            ]
          },
          "metadata": {
            "tags": []
          },
          "execution_count": 109
        }
      ]
    },
    {
      "cell_type": "code",
      "metadata": {
        "colab": {
          "base_uri": "https://localhost:8080/",
          "height": 435
        },
        "id": "6a228877",
        "outputId": "20fb9137-c9d8-426c-9a17-446eaa06b79a"
      },
      "source": [
        "#Seperating Corona result from the dataset.\n",
        "\n",
        "covid_data_result  = covid_data.corona_result\n",
        "covid_data_result1 = pd.DataFrame(covid_data_result)\n",
        "covid_data_result2 = covid_data_result1.iloc[10000:250000, :]\n",
        "print(f'Shape: {covid_data_result2.shape}')\n",
        "print(f'type(covid_data_result2): {type(covid_data_result2)}')\n",
        "covid_data_result2"
      ],
      "id": "6a228877",
      "execution_count": 110,
      "outputs": [
        {
          "output_type": "stream",
          "text": [
            "Shape: (240000, 1)\n",
            "type(covid_data_result2): <class 'pandas.core.frame.DataFrame'>\n"
          ],
          "name": "stdout"
        },
        {
          "output_type": "execute_result",
          "data": {
            "text/html": [
              "<div>\n",
              "<style scoped>\n",
              "    .dataframe tbody tr th:only-of-type {\n",
              "        vertical-align: middle;\n",
              "    }\n",
              "\n",
              "    .dataframe tbody tr th {\n",
              "        vertical-align: top;\n",
              "    }\n",
              "\n",
              "    .dataframe thead th {\n",
              "        text-align: right;\n",
              "    }\n",
              "</style>\n",
              "<table border=\"1\" class=\"dataframe\">\n",
              "  <thead>\n",
              "    <tr style=\"text-align: right;\">\n",
              "      <th></th>\n",
              "      <th>corona_result</th>\n",
              "    </tr>\n",
              "  </thead>\n",
              "  <tbody>\n",
              "    <tr>\n",
              "      <th>10000</th>\n",
              "      <td>negative</td>\n",
              "    </tr>\n",
              "    <tr>\n",
              "      <th>10001</th>\n",
              "      <td>negative</td>\n",
              "    </tr>\n",
              "    <tr>\n",
              "      <th>10002</th>\n",
              "      <td>negative</td>\n",
              "    </tr>\n",
              "    <tr>\n",
              "      <th>10003</th>\n",
              "      <td>negative</td>\n",
              "    </tr>\n",
              "    <tr>\n",
              "      <th>10004</th>\n",
              "      <td>negative</td>\n",
              "    </tr>\n",
              "    <tr>\n",
              "      <th>...</th>\n",
              "      <td>...</td>\n",
              "    </tr>\n",
              "    <tr>\n",
              "      <th>249995</th>\n",
              "      <td>negative</td>\n",
              "    </tr>\n",
              "    <tr>\n",
              "      <th>249996</th>\n",
              "      <td>negative</td>\n",
              "    </tr>\n",
              "    <tr>\n",
              "      <th>249997</th>\n",
              "      <td>negative</td>\n",
              "    </tr>\n",
              "    <tr>\n",
              "      <th>249998</th>\n",
              "      <td>negative</td>\n",
              "    </tr>\n",
              "    <tr>\n",
              "      <th>249999</th>\n",
              "      <td>negative</td>\n",
              "    </tr>\n",
              "  </tbody>\n",
              "</table>\n",
              "<p>240000 rows × 1 columns</p>\n",
              "</div>"
            ],
            "text/plain": [
              "       corona_result\n",
              "10000       negative\n",
              "10001       negative\n",
              "10002       negative\n",
              "10003       negative\n",
              "10004       negative\n",
              "...              ...\n",
              "249995      negative\n",
              "249996      negative\n",
              "249997      negative\n",
              "249998      negative\n",
              "249999      negative\n",
              "\n",
              "[240000 rows x 1 columns]"
            ]
          },
          "metadata": {
            "tags": []
          },
          "execution_count": 110
        }
      ]
    },
    {
      "cell_type": "code",
      "metadata": {
        "colab": {
          "base_uri": "https://localhost:8080/"
        },
        "id": "dedc7c2d",
        "outputId": "57ddd6d3-44d8-4cb3-b227-cd35b31e5cd1"
      },
      "source": [
        "#Converting text into numeric form.\n",
        "\n",
        "from sklearn import preprocessing\n",
        "label_encode = preprocessing.LabelEncoder()\n",
        "covid_data_result3 = label_encode.fit_transform(covid_data_result2.corona_result)\n",
        "print(f'Shape: {covid_data_result3.shape}')\n",
        "print(f'type(covid_data_result3): {type(covid_data_result3)}')\n",
        "covid_data_result3"
      ],
      "id": "dedc7c2d",
      "execution_count": 111,
      "outputs": [
        {
          "output_type": "stream",
          "text": [
            "Shape: (240000,)\n",
            "type(covid_data_result3): <class 'numpy.ndarray'>\n"
          ],
          "name": "stdout"
        },
        {
          "output_type": "execute_result",
          "data": {
            "text/plain": [
              "array([0, 0, 0, ..., 0, 0, 0])"
            ]
          },
          "metadata": {
            "tags": []
          },
          "execution_count": 111
        }
      ]
    },
    {
      "cell_type": "markdown",
      "metadata": {
        "id": "518c9a41"
      },
      "source": [
        "# VISUALIZTION:"
      ],
      "id": "518c9a41"
    },
    {
      "cell_type": "code",
      "metadata": {
        "scrolled": false,
        "colab": {
          "base_uri": "https://localhost:8080/",
          "height": 1000
        },
        "id": "1b1907f1",
        "outputId": "9e2e1e45-7934-4ec8-a09f-42ae113d484f"
      },
      "source": [
        "#Visualizing the data using the seaborn as well as matplotlib packages of the python.\n",
        "\n",
        "import matplotlib.pyplot as plt\n",
        "import seaborn as sns\n",
        "\n",
        "sns.barplot(data = covid_data_features)\n",
        "plt.show()\n",
        "sns.countplot(x = covid_data_result)\n",
        "plt.show()\n",
        "sns.pairplot(data = covid_data_features)\n",
        "plt.show()\n"
      ],
      "id": "1b1907f1",
      "execution_count": 132,
      "outputs": [
        {
          "output_type": "display_data",
          "data": {
            "image/png": "[encoded data removed]",
            "text/plain": [
              "<Figure size 432x288 with 1 Axes>"
            ]
          },
          "metadata": {
            "tags": [],
            "needs_background": "light"
          }
        },
        {
          "output_type": "display_data",
          "data": {
            "image/png": "[encoded data removed]",
            "text/plain": [
              "<Figure size 432x288 with 1 Axes>"
            ]
          },
          "metadata": {
            "tags": [],
            "needs_background": "light"
          }
        },
        {
          "output_type": "display_data",
          "data": {
            "image/png": "[encoded data removed]",
            "text/plain": [
              "<Figure size 900x900 with 30 Axes>"
            ]
          },
          "metadata": {
            "tags": [],
            "needs_background": "light"
          }
        }
      ]
    },
    {
      "cell_type": "markdown",
      "metadata": {
        "id": "68d6ce90"
      },
      "source": [
        "# Data splitting:"
      ],
      "id": "68d6ce90"
    },
    {
      "cell_type": "code",
      "metadata": {
        "colab": {
          "base_uri": "https://localhost:8080/"
        },
        "id": "5097ab3a",
        "outputId": "d073db07-94d3-496d-e1a7-706a039db0b7"
      },
      "source": [
        "#Splitting the data into the training and testing data with 75% and 25% of the each set respectively. Thus creating 4 different variables X_train, y_train, X_test and y_test.\n",
        "\n",
        "from sklearn.model_selection import train_test_split\n",
        "X_train, X_test, y_train, y_test = train_test_split(covid_data_features, covid_data_result3, random_state=0)\n",
        "print(f'X_train shape: {X_train.shape} \\ny_train shape: {y_train.shape} \\nX_test  shape: {X_test.shape} \\ny_test  shape: {y_test.shape}')"
      ],
      "id": "5097ab3a",
      "execution_count": 112,
      "outputs": [
        {
          "output_type": "stream",
          "text": [
            "X_train shape: (180000, 5) \n",
            "y_train shape: (180000,) \n",
            "X_test  shape: (60000, 5) \n",
            "y_test  shape: (60000,)\n"
          ],
          "name": "stdout"
        }
      ]
    },
    {
      "cell_type": "markdown",
      "metadata": {
        "id": "77b18942"
      },
      "source": [
        "# Preprocessing:"
      ],
      "id": "77b18942"
    },
    {
      "cell_type": "code",
      "metadata": {
        "id": "086defdd"
      },
      "source": [
        "#Performing preprocessing\n",
        "\n",
        "from sklearn import preprocessing\n",
        "quantile_transformer = preprocessing.QuantileTransformer(n_quantiles=1000, random_state=0)\n",
        "X_train_trans = quantile_transformer.fit_transform(X_train)\n",
        "X_test_trans = quantile_transformer.transform(X_test)"
      ],
      "id": "086defdd",
      "execution_count": 114,
      "outputs": []
    },
    {
      "cell_type": "markdown",
      "metadata": {
        "id": "0eaaff72"
      },
      "source": [
        "# Knn implmentation:"
      ],
      "id": "0eaaff72"
    },
    {
      "cell_type": "code",
      "metadata": {
        "colab": {
          "base_uri": "https://localhost:8080/"
        },
        "id": "5351b429",
        "outputId": "fa46afbb-08d1-443d-9993-6492e86238dc"
      },
      "source": [
        "#Training nearest neighbour model.\n",
        "\n",
        "from sklearn.neighbors import KNeighborsClassifier\n",
        "from sklearn.metrics import confusion_matrix\n",
        "knn = KNeighborsClassifier(n_neighbors = 1)\n",
        "knn.fit(X_train, y_train)\n",
        "y_prd_knn = knn.predict(X_test)\n",
        "con1 = confusion_matrix(y_test, y_prd_knn)\n",
        "print(f'Nearest_neighbor_train_score: {knn.score(X_train, y_train)*100 :.2f}%')\n",
        "print(f'Nearest_neighbor_test_score: {knn.score(X_test, y_test)*100 :.2f}%')\n",
        "print(f'Confusion matrix: \\n{con1}')"
      ],
      "id": "5351b429",
      "execution_count": 116,
      "outputs": [
        {
          "output_type": "stream",
          "text": [
            "Nearest_neighbor_train_score: 97.72%\n",
            "Nearest_neighbor_test_score: 97.58%\n",
            "Confusion matrix: \n",
            "[[58024    69]\n",
            " [ 1385   522]]\n"
          ],
          "name": "stdout"
        }
      ]
    },
    {
      "cell_type": "markdown",
      "metadata": {
        "id": "db408410"
      },
      "source": [
        "# Testing"
      ],
      "id": "db408410"
    },
    {
      "cell_type": "code",
      "metadata": {
        "colab": {
          "base_uri": "https://localhost:8080/",
          "height": 77
        },
        "id": "dd356b14",
        "outputId": "17f59a34-1294-47cc-b82a-cb583e865cdb"
      },
      "source": [
        "# Testing Knn with dummy features\n",
        "X_test1 =[[ 1, 0, 0, 0, 0]]\n",
        "df1 = pd.DataFrame(X_test1, columns =covid_data_features.keys())\n",
        "df1"
      ],
      "id": "dd356b14",
      "execution_count": 121,
      "outputs": [
        {
          "output_type": "execute_result",
          "data": {
            "text/html": [
              "<div>\n",
              "<style scoped>\n",
              "    .dataframe tbody tr th:only-of-type {\n",
              "        vertical-align: middle;\n",
              "    }\n",
              "\n",
              "    .dataframe tbody tr th {\n",
              "        vertical-align: top;\n",
              "    }\n",
              "\n",
              "    .dataframe thead th {\n",
              "        text-align: right;\n",
              "    }\n",
              "</style>\n",
              "<table border=\"1\" class=\"dataframe\">\n",
              "  <thead>\n",
              "    <tr style=\"text-align: right;\">\n",
              "      <th></th>\n",
              "      <th>cough</th>\n",
              "      <th>fever</th>\n",
              "      <th>sore_throat</th>\n",
              "      <th>shortness_of_breath</th>\n",
              "      <th>head_ache</th>\n",
              "    </tr>\n",
              "  </thead>\n",
              "  <tbody>\n",
              "    <tr>\n",
              "      <th>0</th>\n",
              "      <td>1</td>\n",
              "      <td>0</td>\n",
              "      <td>0</td>\n",
              "      <td>0</td>\n",
              "      <td>0</td>\n",
              "    </tr>\n",
              "  </tbody>\n",
              "</table>\n",
              "</div>"
            ],
            "text/plain": [
              "   cough  fever  sore_throat  shortness_of_breath  head_ache\n",
              "0      1      0            0                    0          0"
            ]
          },
          "metadata": {
            "tags": []
          },
          "execution_count": 121
        }
      ]
    },
    {
      "cell_type": "code",
      "metadata": {
        "colab": {
          "base_uri": "https://localhost:8080/"
        },
        "id": "a73e3b89",
        "outputId": "6c245033-4a30-4281-a85c-fe61a193ec86"
      },
      "source": [
        "y_prd_knn = knn.predict(df1)\n",
        "result1 = label_encode.inverse_transform(y_prd_knn)\n",
        "print(f'Result: {result1[0]}')"
      ],
      "id": "a73e3b89",
      "execution_count": 122,
      "outputs": [
        {
          "output_type": "stream",
          "text": [
            "Result: negative\n"
          ],
          "name": "stdout"
        }
      ]
    },
    {
      "cell_type": "markdown",
      "metadata": {
        "id": "f55ea5c7"
      },
      "source": [
        "# Logistic regression implementation:"
      ],
      "id": "f55ea5c7"
    },
    {
      "cell_type": "code",
      "metadata": {
        "colab": {
          "base_uri": "https://localhost:8080/"
        },
        "id": "eba489bd",
        "outputId": "c8d77e8b-4bc9-4fad-c939-418b3703b4c2"
      },
      "source": [
        "#Training logestic regression model.\n",
        "\n",
        "from sklearn.linear_model import LogisticRegression\n",
        "logistic_model = LogisticRegression()\n",
        "logistic_model.fit(X_train, y_train)\n",
        "y_prd_lrm = logistic_model.predict(X_test)\n",
        "con3 = confusion_matrix(y_test, y_prd_lrm)\n",
        "print(f'Logestic_regression_train_score: {logistic_model.score(X_train, y_train)*100 :.2f}%')\n",
        "print(f'Logestic_regression_test_score: {logistic_model.score(X_test, y_test)*100 :.2f}%')\n",
        "print(f'Confusion matrix: \\n{con3}')"
      ],
      "id": "eba489bd",
      "execution_count": 115,
      "outputs": [
        {
          "output_type": "stream",
          "text": [
            "Logestic_regression_train_score: 97.72%\n",
            "Logestic_regression_test_score: 97.57%\n",
            "Confusion matrix: \n",
            "[[58019    74]\n",
            " [ 1386   521]]\n"
          ],
          "name": "stdout"
        }
      ]
    },
    {
      "cell_type": "markdown",
      "metadata": {
        "id": "37de8d0f"
      },
      "source": [
        "# Testing"
      ],
      "id": "37de8d0f"
    },
    {
      "cell_type": "code",
      "metadata": {
        "colab": {
          "base_uri": "https://localhost:8080/",
          "height": 77
        },
        "id": "a53efa55",
        "outputId": "4f2e73ed-16da-4d5c-f4ec-b534c861790e"
      },
      "source": [
        "# Testing logestic regression with dummy features\n",
        "X_test2 =[[ 0, 1, 0, 1, 1]]\n",
        "df2 = pd.DataFrame(X_test2, columns =covid_data_features.keys())\n",
        "df2"
      ],
      "id": "a53efa55",
      "execution_count": 123,
      "outputs": [
        {
          "output_type": "execute_result",
          "data": {
            "text/html": [
              "<div>\n",
              "<style scoped>\n",
              "    .dataframe tbody tr th:only-of-type {\n",
              "        vertical-align: middle;\n",
              "    }\n",
              "\n",
              "    .dataframe tbody tr th {\n",
              "        vertical-align: top;\n",
              "    }\n",
              "\n",
              "    .dataframe thead th {\n",
              "        text-align: right;\n",
              "    }\n",
              "</style>\n",
              "<table border=\"1\" class=\"dataframe\">\n",
              "  <thead>\n",
              "    <tr style=\"text-align: right;\">\n",
              "      <th></th>\n",
              "      <th>cough</th>\n",
              "      <th>fever</th>\n",
              "      <th>sore_throat</th>\n",
              "      <th>shortness_of_breath</th>\n",
              "      <th>head_ache</th>\n",
              "    </tr>\n",
              "  </thead>\n",
              "  <tbody>\n",
              "    <tr>\n",
              "      <th>0</th>\n",
              "      <td>0</td>\n",
              "      <td>1</td>\n",
              "      <td>0</td>\n",
              "      <td>1</td>\n",
              "      <td>1</td>\n",
              "    </tr>\n",
              "  </tbody>\n",
              "</table>\n",
              "</div>"
            ],
            "text/plain": [
              "   cough  fever  sore_throat  shortness_of_breath  head_ache\n",
              "0      0      1            0                    1          1"
            ]
          },
          "metadata": {
            "tags": []
          },
          "execution_count": 123
        }
      ]
    },
    {
      "cell_type": "code",
      "metadata": {
        "colab": {
          "base_uri": "https://localhost:8080/"
        },
        "id": "0486923b",
        "outputId": "0a261a5e-36c0-4777-82c6-8a5aa856128f"
      },
      "source": [
        "y_prd_lrm = logistic_model.predict(df2)\n",
        "result2 = label_encode.inverse_transform(y_prd_lrm)\n",
        "print(f'Result: {result2[0]}')"
      ],
      "id": "0486923b",
      "execution_count": 124,
      "outputs": [
        {
          "output_type": "stream",
          "text": [
            "Result: positive\n"
          ],
          "name": "stdout"
        }
      ]
    },
    {
      "cell_type": "markdown",
      "metadata": {
        "id": "464f8b01"
      },
      "source": [
        "# Neural networks implementation:"
      ],
      "id": "464f8b01"
    },
    {
      "cell_type": "code",
      "metadata": {
        "scrolled": true,
        "colab": {
          "base_uri": "https://localhost:8080/"
        },
        "id": "d8fc007a",
        "outputId": "cde7f6cd-9fdb-412b-adbf-05db2a6f8a0b"
      },
      "source": [
        "#Training Multi layer prceptron model.\n",
        "\n",
        "from sklearn.neural_network import MLPClassifier\n",
        "mlp = MLPClassifier(max_iter = 225000, random_state = 0)\n",
        "mlp.fit(X_train,y_train)\n",
        "y_prd_mlp = mlp.predict(X_test)\n",
        "con4 = confusion_matrix(y_test, y_prd_mlp)\n",
        "print(f'MLP_train_score: {mlp.score(X_train, y_train)*100 :.2f}%')\n",
        "print(f'Mlp_test_score: {mlp.score(X_test, y_test)*100 :.2f}%')\n",
        "print(f'Confusion matrix: \\n{con4}')"
      ],
      "id": "d8fc007a",
      "execution_count": 117,
      "outputs": [
        {
          "output_type": "stream",
          "text": [
            "MLP_train_score: 97.74%\n",
            "Mlp_test_score: 97.59%\n",
            "Confusion matrix: \n",
            "[[58019    74]\n",
            " [ 1369   538]]\n"
          ],
          "name": "stdout"
        }
      ]
    },
    {
      "cell_type": "markdown",
      "metadata": {
        "id": "fb061a89"
      },
      "source": [
        "# Testing"
      ],
      "id": "fb061a89"
    },
    {
      "cell_type": "code",
      "metadata": {
        "colab": {
          "base_uri": "https://localhost:8080/",
          "height": 77
        },
        "id": "64517e1c",
        "outputId": "dd17cd65-a5d2-4c76-c965-313405314f7c"
      },
      "source": [
        "# Testing MLP with dummy features\n",
        "X_test3 =[[ 0, 0, 0, 0, 0]]\n",
        "df3 = pd.DataFrame(X_test3, columns =covid_data_features.keys())\n",
        "df3"
      ],
      "id": "64517e1c",
      "execution_count": 125,
      "outputs": [
        {
          "output_type": "execute_result",
          "data": {
            "text/html": [
              "<div>\n",
              "<style scoped>\n",
              "    .dataframe tbody tr th:only-of-type {\n",
              "        vertical-align: middle;\n",
              "    }\n",
              "\n",
              "    .dataframe tbody tr th {\n",
              "        vertical-align: top;\n",
              "    }\n",
              "\n",
              "    .dataframe thead th {\n",
              "        text-align: right;\n",
              "    }\n",
              "</style>\n",
              "<table border=\"1\" class=\"dataframe\">\n",
              "  <thead>\n",
              "    <tr style=\"text-align: right;\">\n",
              "      <th></th>\n",
              "      <th>cough</th>\n",
              "      <th>fever</th>\n",
              "      <th>sore_throat</th>\n",
              "      <th>shortness_of_breath</th>\n",
              "      <th>head_ache</th>\n",
              "    </tr>\n",
              "  </thead>\n",
              "  <tbody>\n",
              "    <tr>\n",
              "      <th>0</th>\n",
              "      <td>0</td>\n",
              "      <td>0</td>\n",
              "      <td>0</td>\n",
              "      <td>0</td>\n",
              "      <td>0</td>\n",
              "    </tr>\n",
              "  </tbody>\n",
              "</table>\n",
              "</div>"
            ],
            "text/plain": [
              "   cough  fever  sore_throat  shortness_of_breath  head_ache\n",
              "0      0      0            0                    0          0"
            ]
          },
          "metadata": {
            "tags": []
          },
          "execution_count": 125
        }
      ]
    },
    {
      "cell_type": "code",
      "metadata": {
        "colab": {
          "base_uri": "https://localhost:8080/"
        },
        "id": "1f80de35",
        "outputId": "9a6ba5a7-0c6e-4f55-d8b4-76fe97eb64ab"
      },
      "source": [
        "result3 = label_encode.inverse_transform(y_prd_mlp)\n",
        "print(f'Result: {result3[0]}')"
      ],
      "id": "1f80de35",
      "execution_count": 126,
      "outputs": [
        {
          "output_type": "stream",
          "text": [
            "Result: negative\n"
          ],
          "name": "stdout"
        }
      ]
    },
    {
      "cell_type": "markdown",
      "metadata": {
        "id": "cb14dd7f"
      },
      "source": [
        "# Linear regression implementation:"
      ],
      "id": "cb14dd7f"
    },
    {
      "cell_type": "code",
      "metadata": {
        "colab": {
          "base_uri": "https://localhost:8080/"
        },
        "id": "8c53a703",
        "outputId": "7eed8a53-ed98-4dbd-fd93-7554231b6dc6"
      },
      "source": [
        "#Training Linear regression model.\n",
        "\n",
        "\n",
        "from sklearn.linear_model import LinearRegression\n",
        "linear_model = LinearRegression()\n",
        "linear_model.fit(X_train_trans, y_train)\n",
        "y_prd = linear_model.predict(X_test_trans)\n",
        "print(f'Linear_regression_train_score: {linear_model.score(X_train_trans, y_train)*100 :.2f}%')\n",
        "print(f'Linear_regression_test_score: {linear_model.score(X_test_trans, y_test)*100 :.2f}%')"
      ],
      "id": "8c53a703",
      "execution_count": 118,
      "outputs": [
        {
          "output_type": "stream",
          "text": [
            "Linear_regression_train_score: 26.86%\n",
            "Linear_regression_test_score: 24.39%\n"
          ],
          "name": "stdout"
        }
      ]
    },
    {
      "cell_type": "markdown",
      "metadata": {
        "id": "63e8defd"
      },
      "source": [
        "# Testing"
      ],
      "id": "63e8defd"
    },
    {
      "cell_type": "code",
      "metadata": {
        "colab": {
          "base_uri": "https://localhost:8080/",
          "height": 77
        },
        "id": "f29ab6ad",
        "outputId": "144c03a3-94cb-4627-ab6c-d5a661bb0b05"
      },
      "source": [
        "# Testing linar regression with dummy feature\n",
        "X_test4 =[[ 0, 1, 1, 0, 1]]\n",
        "df4 = pd.DataFrame(X_test4, columns =covid_data_features.keys())\n",
        "df4"
      ],
      "id": "f29ab6ad",
      "execution_count": 127,
      "outputs": [
        {
          "output_type": "execute_result",
          "data": {
            "text/html": [
              "<div>\n",
              "<style scoped>\n",
              "    .dataframe tbody tr th:only-of-type {\n",
              "        vertical-align: middle;\n",
              "    }\n",
              "\n",
              "    .dataframe tbody tr th {\n",
              "        vertical-align: top;\n",
              "    }\n",
              "\n",
              "    .dataframe thead th {\n",
              "        text-align: right;\n",
              "    }\n",
              "</style>\n",
              "<table border=\"1\" class=\"dataframe\">\n",
              "  <thead>\n",
              "    <tr style=\"text-align: right;\">\n",
              "      <th></th>\n",
              "      <th>cough</th>\n",
              "      <th>fever</th>\n",
              "      <th>sore_throat</th>\n",
              "      <th>shortness_of_breath</th>\n",
              "      <th>head_ache</th>\n",
              "    </tr>\n",
              "  </thead>\n",
              "  <tbody>\n",
              "    <tr>\n",
              "      <th>0</th>\n",
              "      <td>0</td>\n",
              "      <td>1</td>\n",
              "      <td>1</td>\n",
              "      <td>0</td>\n",
              "      <td>1</td>\n",
              "    </tr>\n",
              "  </tbody>\n",
              "</table>\n",
              "</div>"
            ],
            "text/plain": [
              "   cough  fever  sore_throat  shortness_of_breath  head_ache\n",
              "0      0      1            1                    0          1"
            ]
          },
          "metadata": {
            "tags": []
          },
          "execution_count": 127
        }
      ]
    },
    {
      "cell_type": "code",
      "metadata": {
        "scrolled": true,
        "colab": {
          "base_uri": "https://localhost:8080/"
        },
        "id": "db682ed0",
        "outputId": "5cc9d0f7-c248-479c-cd55-c607b14d0fb0"
      },
      "source": [
        "y_prd1 = linear_model.predict(df4)\n",
        "#converting to integer form as LR is continuous. eg here y_pred was 1.6 and its label i.e positive or negative wouldnt have been assigned as we have 0=negative and 1= positve.\n",
        "y_pred = int(y_prd1)\n",
        "#converting back to array form with the help of numpy as .inverse_transform takes array as arguement.\n",
        "import numpy as np\n",
        "\n",
        "y_pred1 = np.array([y_pred])\n",
        "result4= label_encode.inverse_transform(y_pred1)\n",
        "print(f'Result: {result4[0]}')"
      ],
      "id": "db682ed0",
      "execution_count": 128,
      "outputs": [
        {
          "output_type": "stream",
          "text": [
            "Result: positive\n"
          ],
          "name": "stdout"
        }
      ]
    },
    {
      "cell_type": "markdown",
      "metadata": {
        "id": "c75ebc7a"
      },
      "source": [
        "# SVM implementation:"
      ],
      "id": "c75ebc7a"
    },
    {
      "cell_type": "code",
      "metadata": {
        "colab": {
          "base_uri": "https://localhost:8080/"
        },
        "id": "7f5f8cd7",
        "outputId": "752bbd9b-df0d-49f0-dd7f-051588629912"
      },
      "source": [
        "#Training Support vector machines model\n",
        "\n",
        "from sklearn.svm import SVC\n",
        "svc = SVC()\n",
        "svc.fit(X_train, y_train)\n",
        "y_prd_svm = svc.predict(X_test)\n",
        "con5 = confusion_matrix(y_test, y_prd_svm)\n",
        "print(f'svc_train_score: {svc.score(X_train, y_train)*100 :.2f}%')\n",
        "print(f'svc_test_score: {svc.score(X_test, y_test)*100 :.2f}%')\n",
        "print(f'Confusion matrix: \\n{con5}')"
      ],
      "id": "7f5f8cd7",
      "execution_count": 129,
      "outputs": [
        {
          "output_type": "stream",
          "text": [
            "svc_train_score: 97.74%\n",
            "svc_test_score: 97.59%\n",
            "Confusion matrix: \n",
            "[[58019    74]\n",
            " [ 1369   538]]\n"
          ],
          "name": "stdout"
        }
      ]
    },
    {
      "cell_type": "markdown",
      "metadata": {
        "id": "20f7c08d"
      },
      "source": [
        "# Testing"
      ],
      "id": "20f7c08d"
    },
    {
      "cell_type": "code",
      "metadata": {
        "colab": {
          "base_uri": "https://localhost:8080/",
          "height": 77
        },
        "id": "2c634bf0",
        "outputId": "039a4302-774f-4d94-be79-751666c47c24"
      },
      "source": [
        "# Testing SVM with dummy feature\n",
        "X_test5 =[[ 1, 1, 1, 1, 1]]\n",
        "df5 = pd.DataFrame(X_test5, columns =covid_data_features.keys())\n",
        "df5"
      ],
      "id": "2c634bf0",
      "execution_count": 130,
      "outputs": [
        {
          "output_type": "execute_result",
          "data": {
            "text/html": [
              "<div>\n",
              "<style scoped>\n",
              "    .dataframe tbody tr th:only-of-type {\n",
              "        vertical-align: middle;\n",
              "    }\n",
              "\n",
              "    .dataframe tbody tr th {\n",
              "        vertical-align: top;\n",
              "    }\n",
              "\n",
              "    .dataframe thead th {\n",
              "        text-align: right;\n",
              "    }\n",
              "</style>\n",
              "<table border=\"1\" class=\"dataframe\">\n",
              "  <thead>\n",
              "    <tr style=\"text-align: right;\">\n",
              "      <th></th>\n",
              "      <th>cough</th>\n",
              "      <th>fever</th>\n",
              "      <th>sore_throat</th>\n",
              "      <th>shortness_of_breath</th>\n",
              "      <th>head_ache</th>\n",
              "    </tr>\n",
              "  </thead>\n",
              "  <tbody>\n",
              "    <tr>\n",
              "      <th>0</th>\n",
              "      <td>1</td>\n",
              "      <td>1</td>\n",
              "      <td>1</td>\n",
              "      <td>1</td>\n",
              "      <td>1</td>\n",
              "    </tr>\n",
              "  </tbody>\n",
              "</table>\n",
              "</div>"
            ],
            "text/plain": [
              "   cough  fever  sore_throat  shortness_of_breath  head_ache\n",
              "0      1      1            1                    1          1"
            ]
          },
          "metadata": {
            "tags": []
          },
          "execution_count": 130
        }
      ]
    },
    {
      "cell_type": "code",
      "metadata": {
        "colab": {
          "base_uri": "https://localhost:8080/"
        },
        "id": "e3cded22",
        "outputId": "535e0e80-1429-4f97-c01c-e94d8a4d37d1"
      },
      "source": [
        "y_prd_svm = svc.predict(df5)\n",
        "result5= label_encode.inverse_transform(y_prd_svm)\n",
        "print(f'Result: {result5[0]}')"
      ],
      "id": "e3cded22",
      "execution_count": 131,
      "outputs": [
        {
          "output_type": "stream",
          "text": [
            "Result: positive\n"
          ],
          "name": "stdout"
        }
      ]
    },
    {
      "cell_type": "code",
      "metadata": {
        "id": "d4470f6d"
      },
      "source": [
        ""
      ],
      "id": "d4470f6d",
      "execution_count": null,
      "outputs": []
    }
  ]
}